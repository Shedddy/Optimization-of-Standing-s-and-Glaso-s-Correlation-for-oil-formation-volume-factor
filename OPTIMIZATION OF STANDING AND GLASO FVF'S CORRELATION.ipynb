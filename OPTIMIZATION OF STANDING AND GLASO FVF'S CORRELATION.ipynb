{
 "cells": [
  {
   "cell_type": "markdown",
   "id": "310c1330",
   "metadata": {},
   "source": [
    "IMPORTING NECCESARY PYTHON LIBRARIES"
   ]
  },
  {
   "cell_type": "code",
   "execution_count": 120,
   "id": "fcbd20d8",
   "metadata": {},
   "outputs": [],
   "source": [
    "import pandas as pd\n",
    "import numpy as np\n",
    "from sklearn.linear_model import LinearRegression\n",
    "from scipy.optimize import minimize\n",
    "from sklearn.metrics import mean_squared_error"
   ]
  },
  {
   "cell_type": "markdown",
   "id": "751077c9",
   "metadata": {},
   "source": [
    "LOAD THE EXCEL FILE INTO A PANDAS DATAFRAME"
   ]
  },
  {
   "cell_type": "code",
   "execution_count": 121,
   "id": "7370d7c1",
   "metadata": {},
   "outputs": [
    {
     "data": {
      "text/html": [
       "<div>\n",
       "<style scoped>\n",
       "    .dataframe tbody tr th:only-of-type {\n",
       "        vertical-align: middle;\n",
       "    }\n",
       "\n",
       "    .dataframe tbody tr th {\n",
       "        vertical-align: top;\n",
       "    }\n",
       "\n",
       "    .dataframe thead th {\n",
       "        text-align: right;\n",
       "    }\n",
       "</style>\n",
       "<table border=\"1\" class=\"dataframe\">\n",
       "  <thead>\n",
       "    <tr style=\"text-align: right;\">\n",
       "      <th></th>\n",
       "      <th>Temperature, (F)</th>\n",
       "      <th>Temperature, (R)</th>\n",
       "      <th>Solution Gas Oil Ratio, (SCF/STB)</th>\n",
       "      <th>Gas Specific Gravity, (-)</th>\n",
       "      <th>API, (-)</th>\n",
       "      <th>Oil Specific Gravity, (-)</th>\n",
       "      <th>Oil Formation Volume Factor, (bbl/STB)</th>\n",
       "      <th>Bubble Point Pressure, (Psi)</th>\n",
       "    </tr>\n",
       "  </thead>\n",
       "  <tbody>\n",
       "    <tr>\n",
       "      <th>0</th>\n",
       "      <td>120</td>\n",
       "      <td>580</td>\n",
       "      <td>126.0</td>\n",
       "      <td>1.224</td>\n",
       "      <td>30.029680</td>\n",
       "      <td>0.876</td>\n",
       "      <td>1.102</td>\n",
       "      <td>350.0</td>\n",
       "    </tr>\n",
       "    <tr>\n",
       "      <th>1</th>\n",
       "      <td>150</td>\n",
       "      <td>610</td>\n",
       "      <td>160.0</td>\n",
       "      <td>1.265</td>\n",
       "      <td>21.142934</td>\n",
       "      <td>0.927</td>\n",
       "      <td>1.132</td>\n",
       "      <td>560.0</td>\n",
       "    </tr>\n",
       "    <tr>\n",
       "      <th>2</th>\n",
       "      <td>220</td>\n",
       "      <td>680</td>\n",
       "      <td>279.0</td>\n",
       "      <td>1.238</td>\n",
       "      <td>25.547725</td>\n",
       "      <td>0.901</td>\n",
       "      <td>1.264</td>\n",
       "      <td>998.0</td>\n",
       "    </tr>\n",
       "    <tr>\n",
       "      <th>3</th>\n",
       "      <td>165</td>\n",
       "      <td>625</td>\n",
       "      <td>410.0</td>\n",
       "      <td>1.088</td>\n",
       "      <td>27.488764</td>\n",
       "      <td>0.890</td>\n",
       "      <td>1.268</td>\n",
       "      <td>1332.0</td>\n",
       "    </tr>\n",
       "    <tr>\n",
       "      <th>4</th>\n",
       "      <td>130</td>\n",
       "      <td>590</td>\n",
       "      <td>469.0</td>\n",
       "      <td>0.970</td>\n",
       "      <td>34.579812</td>\n",
       "      <td>0.852</td>\n",
       "      <td>1.265</td>\n",
       "      <td>1428.0</td>\n",
       "    </tr>\n",
       "    <tr>\n",
       "      <th>5</th>\n",
       "      <td>220</td>\n",
       "      <td>680</td>\n",
       "      <td>381.0</td>\n",
       "      <td>1.126</td>\n",
       "      <td>21.472973</td>\n",
       "      <td>0.925</td>\n",
       "      <td>1.295</td>\n",
       "      <td>1626.0</td>\n",
       "    </tr>\n",
       "    <tr>\n",
       "      <th>6</th>\n",
       "      <td>250</td>\n",
       "      <td>710</td>\n",
       "      <td>645.0</td>\n",
       "      <td>1.256</td>\n",
       "      <td>30.770642</td>\n",
       "      <td>0.872</td>\n",
       "      <td>1.518</td>\n",
       "      <td>1804.0</td>\n",
       "    </tr>\n",
       "    <tr>\n",
       "      <th>7</th>\n",
       "      <td>120</td>\n",
       "      <td>580</td>\n",
       "      <td>514.0</td>\n",
       "      <td>0.819</td>\n",
       "      <td>29.845496</td>\n",
       "      <td>0.877</td>\n",
       "      <td>1.259</td>\n",
       "      <td>1992.0</td>\n",
       "    </tr>\n",
       "    <tr>\n",
       "      <th>8</th>\n",
       "      <td>140</td>\n",
       "      <td>600</td>\n",
       "      <td>437.0</td>\n",
       "      <td>0.847</td>\n",
       "      <td>23.994505</td>\n",
       "      <td>0.910</td>\n",
       "      <td>1.236</td>\n",
       "      <td>2084.0</td>\n",
       "    </tr>\n",
       "    <tr>\n",
       "      <th>9</th>\n",
       "      <td>140</td>\n",
       "      <td>600</td>\n",
       "      <td>517.0</td>\n",
       "      <td>0.920</td>\n",
       "      <td>24.165567</td>\n",
       "      <td>0.909</td>\n",
       "      <td>1.269</td>\n",
       "      <td>2164.0</td>\n",
       "    </tr>\n",
       "  </tbody>\n",
       "</table>\n",
       "</div>"
      ],
      "text/plain": [
       "   Temperature, (F)  Temperature, (R)  Solution Gas Oil Ratio, (SCF/STB)  \\\n",
       "0               120               580                              126.0   \n",
       "1               150               610                              160.0   \n",
       "2               220               680                              279.0   \n",
       "3               165               625                              410.0   \n",
       "4               130               590                              469.0   \n",
       "5               220               680                              381.0   \n",
       "6               250               710                              645.0   \n",
       "7               120               580                              514.0   \n",
       "8               140               600                              437.0   \n",
       "9               140               600                              517.0   \n",
       "\n",
       "   Gas Specific Gravity, (-)   API, (-)  Oil Specific Gravity, (-)  \\\n",
       "0                      1.224  30.029680                      0.876   \n",
       "1                      1.265  21.142934                      0.927   \n",
       "2                      1.238  25.547725                      0.901   \n",
       "3                      1.088  27.488764                      0.890   \n",
       "4                      0.970  34.579812                      0.852   \n",
       "5                      1.126  21.472973                      0.925   \n",
       "6                      1.256  30.770642                      0.872   \n",
       "7                      0.819  29.845496                      0.877   \n",
       "8                      0.847  23.994505                      0.910   \n",
       "9                      0.920  24.165567                      0.909   \n",
       "\n",
       "   Oil Formation Volume Factor, (bbl/STB)  Bubble Point Pressure, (Psi)  \n",
       "0                                   1.102                         350.0  \n",
       "1                                   1.132                         560.0  \n",
       "2                                   1.264                         998.0  \n",
       "3                                   1.268                        1332.0  \n",
       "4                                   1.265                        1428.0  \n",
       "5                                   1.295                        1626.0  \n",
       "6                                   1.518                        1804.0  \n",
       "7                                   1.259                        1992.0  \n",
       "8                                   1.236                        2084.0  \n",
       "9                                   1.269                        2164.0  "
      ]
     },
     "execution_count": 121,
     "metadata": {},
     "output_type": "execute_result"
    }
   ],
   "source": [
    "# Load the dataset\n",
    "data = pd.read_excel(r\"C:\\Users\\USER\\Documents\\Machine Learning Project\\PEE\\fvf.xlsx\")\n",
    "data.head(10)"
   ]
  },
  {
   "cell_type": "markdown",
   "id": "c299d438",
   "metadata": {},
   "source": [
    "SPLIT THE LOADED DATA INTO FEATURES(X) AND TARGET(Y)"
   ]
  },
  {
   "cell_type": "code",
   "execution_count": 122,
   "id": "c3638442",
   "metadata": {},
   "outputs": [],
   "source": [
    "X = data[['Temperature, (R)', 'Solution Gas Oil Ratio, (SCF/STB)',\n",
    "          'Gas Specific Gravity, (-)', 'Oil Specific Gravity, (-)']]\n",
    "y = data['Oil Formation Volume Factor, (bbl/STB)']"
   ]
  },
  {
   "cell_type": "markdown",
   "id": "cf56efcc",
   "metadata": {},
   "source": [
    "CHECK THE DIMENSION OF THE FEATURE DATA TO ENSURE IT IS 2-D"
   ]
  },
  {
   "cell_type": "code",
   "execution_count": 123,
   "id": "3c38d79d",
   "metadata": {},
   "outputs": [
    {
     "name": "stdout",
     "output_type": "stream",
     "text": [
      "<class 'pandas.core.frame.DataFrame'>\n",
      "(567, 4)\n"
     ]
    }
   ],
   "source": [
    "print(type(X))\n",
    "print(X.shape)"
   ]
  },
  {
   "cell_type": "markdown",
   "id": "31e995f8",
   "metadata": {},
   "source": [
    "DEFINE THE STANDING'S CORRELATION FORMULA. RATHER THAN STATING THE NORMAL COEFFICIENTS, REPRESENT IT WITH ALPHABETS, SINCE THESE COEFFICIENTS ARE TO BE OPTIMIZED"
   ]
  },
  {
   "cell_type": "code",
   "execution_count": 124,
   "id": "303a4e8e",
   "metadata": {},
   "outputs": [],
   "source": [
    "def standing_correlation(coef, X):\n",
    "    a, b, c, d, e = coef\n",
    "    T = X['Temperature, (R)']  \n",
    "    Rs = X['Solution Gas Oil Ratio, (SCF/STB)']  \n",
    "    Yg = X['Gas Specific Gravity, (-)']  \n",
    "    Yo = X['Oil Specific Gravity, (-)']  \n",
    "    FVF = a + b * (Rs * (Yg / Yo) ** c + d * (T - 460)) ** e\n",
    "    return FVF"
   ]
  },
  {
   "cell_type": "markdown",
   "id": "d37cdf29",
   "metadata": {},
   "source": [
    "DEFINE THE OBJECTIVE FUNCTION"
   ]
  },
  {
   "cell_type": "code",
   "execution_count": 125,
   "id": "440a4315",
   "metadata": {},
   "outputs": [],
   "source": [
    "# Define the objective function for optimization (mean squared error)\n",
    "def objective_function(coef, X, y):\n",
    "    y_pred = standing_correlation(coef, X)\n",
    "    mse = mean_squared_error(y, y_pred)\n",
    "    return mse"
   ]
  },
  {
   "cell_type": "markdown",
   "id": "aa7d8078",
   "metadata": {},
   "source": [
    "STATE THE INITIAL COEFFICIENT IN THE STANDING'S CORRELATION"
   ]
  },
  {
   "cell_type": "code",
   "execution_count": 126,
   "id": "5fd4cd6c",
   "metadata": {},
   "outputs": [],
   "source": [
    "# Initialize coefficients\n",
    "initial_coef = [0.9759, 0.000120, 0.5, 1.25, 1.2]"
   ]
  },
  {
   "cell_type": "code",
   "execution_count": 127,
   "id": "eb3f4a05",
   "metadata": {},
   "outputs": [],
   "source": [
    "# Define the maximum number of iterations\n",
    "max_iterations = 10000  # Adjust this value as needed\n",
    "\n",
    "# Define the optimization options\n",
    "options = {'maxiter': max_iterations}"
   ]
  },
  {
   "cell_type": "code",
   "execution_count": 128,
   "id": "e6acf8ee",
   "metadata": {},
   "outputs": [],
   "source": [
    "# Perform optimization\n",
    "result = minimize(objective_function, initial_coef, args=(X, y), method='BFGS', options = options)\n"
   ]
  },
  {
   "cell_type": "code",
   "execution_count": 129,
   "id": "93cf576f",
   "metadata": {},
   "outputs": [
    {
     "name": "stdout",
     "output_type": "stream",
     "text": [
      "Optimized Parameters:\n",
      "a (Parameter 1): 0.8242575045563972\n",
      "b (Parameter 2): 0.00047338799068836443\n",
      "c (Parameter 3): 0.687815503003702\n",
      "d (Parameter 4): 3.1478635693378987\n",
      "e (Parameter 5): 0.994792575606612\n",
      "Mean Squared Error (with Standing's correlation): 0.137765899\n",
      "Mean Squared Error (with optimized parameters): 0.017885261548427456\n"
     ]
    }
   ],
   "source": [
    "# Print optimized parameters and mean squared error\n",
    "print(\"Optimized Parameters:\")\n",
    "print(\"a (Parameter 1):\", result.x[0])\n",
    "print(\"b (Parameter 2):\", result.x[1])\n",
    "print(\"c (Parameter 3):\", result.x[2])\n",
    "print(\"d (Parameter 4):\", result.x[3])\n",
    "print(\"e (Parameter 5):\", result.x[4])\n",
    "\n",
    "print(\"Mean Squared Error (with Standing's correlation): 0.137765899\")\n",
    "print(\"Mean Squared Error (with optimized parameters):\", result.fun)\n"
   ]
  },
  {
   "cell_type": "code",
   "execution_count": null,
   "id": "4b36d62c",
   "metadata": {},
   "outputs": [],
   "source": []
  },
  {
   "cell_type": "code",
   "execution_count": null,
   "id": "54d70842",
   "metadata": {},
   "outputs": [],
   "source": []
  },
  {
   "cell_type": "code",
   "execution_count": 132,
   "id": "b451b73e",
   "metadata": {},
   "outputs": [],
   "source": [
    "# Define the Glaso correlation equation\n",
    "def glaso_correlation(coef, X):\n",
    "    a, b, c, d, e, f = coef\n",
    "    Rs = X['Solution Gas Oil Ratio, (SCF/STB)']  \n",
    "    Yg_Yo = X['Gas Specific Gravity, (-)'] / X['Oil Specific Gravity, (-)']  \n",
    "    T = X['Temperature, (R)']\n",
    "    B_ob = Rs * (Yg_Yo) ** e + f * (T - 460)\n",
    "    A = -a + b * np.log(B_ob) - c * (np.log(B_ob)) ** d\n",
    "    FVF = 1.0 + 10 ** A\n",
    "    return FVF"
   ]
  },
  {
   "cell_type": "code",
   "execution_count": 133,
   "id": "aa3bc72a",
   "metadata": {},
   "outputs": [],
   "source": [
    "# Define the objective function for optimization (mean squared error)\n",
    "def objective_function(coef, X, y):\n",
    "    y_pred = glaso_correlation(coef, X)\n",
    "    mse = mean_squared_error(y, y_pred)\n",
    "    return mse"
   ]
  },
  {
   "cell_type": "code",
   "execution_count": 134,
   "id": "4c86ba0c",
   "metadata": {},
   "outputs": [],
   "source": [
    "# Initialize coefficients\n",
    "initial_coef = [-6.58511, 2.91329, 0.27683, 2, 0.526, 0.968]"
   ]
  },
  {
   "cell_type": "code",
   "execution_count": 135,
   "id": "c594c5fb",
   "metadata": {},
   "outputs": [],
   "source": [
    "# Define the maximum number of iterations\n",
    "max_iterations = 1000  # Adjust this value as needed"
   ]
  },
  {
   "cell_type": "code",
   "execution_count": 136,
   "id": "19ffb52b",
   "metadata": {},
   "outputs": [],
   "source": [
    "# Define the optimization options\n",
    "options = {'maxiter': max_iterations}"
   ]
  },
  {
   "cell_type": "code",
   "execution_count": 144,
   "id": "54371d98",
   "metadata": {},
   "outputs": [],
   "source": [
    "# Define the list of optimization methods to try\n",
    "optimization_methods = ['Nelder-Mead', 'CG', 'BFGS', 'L-BFGS-B', \n",
    "                        'TNC', 'COBYLA', 'trust-constr']"
   ]
  },
  {
   "cell_type": "code",
   "execution_count": 145,
   "id": "e9cfcbae",
   "metadata": {},
   "outputs": [
    {
     "name": "stdout",
     "output_type": "stream",
     "text": [
      "\n",
      "Optimizing with Nelder-Mead method:\n",
      "Optimized Parameters:\n",
      "a (Parameter 1): 5.193127813423491\n",
      "b (Parameter 2): 1.0943619721473246\n",
      "c (Parameter 3): 0.40345841273375094\n",
      "d (Parameter 4): 1.0370393967285034\n",
      "e (Parameter 5): 0.2415532211042512\n",
      "f (Parameter 6): 4.288682378669934\n",
      "Mean Squared Error: 0.019319457416910716\n",
      "\n",
      "Optimizing with CG method:\n",
      "Optimized Parameters:\n",
      "a (Parameter 1): -6.560309506744944\n",
      "b (Parameter 2): 2.7650266196624567\n",
      "c (Parameter 3): 1.1706757937650183\n",
      "d (Parameter 4): 2.445564859552206\n",
      "e (Parameter 5): 0.5280007909130432\n",
      "f (Parameter 6): 0.9712488954617083\n",
      "Mean Squared Error: 0.2712593102998237\n",
      "\n",
      "Optimizing with BFGS method:\n",
      "Optimized Parameters:\n",
      "a (Parameter 1): -6.560309506744944\n",
      "b (Parameter 2): 2.7650266196624567\n",
      "c (Parameter 3): 1.1706757937650183\n",
      "d (Parameter 4): 2.445564859552206\n",
      "e (Parameter 5): 0.5280007909130432\n",
      "f (Parameter 6): 0.9712488954617083\n",
      "Mean Squared Error: 0.2712593102998237\n",
      "\n",
      "Optimizing with L-BFGS-B method:\n",
      "Optimized Parameters:\n",
      "a (Parameter 1): -6.56055506339085\n",
      "b (Parameter 2): 2.7664946382844358\n",
      "c (Parameter 3): 1.1618258812236104\n",
      "d (Parameter 4): 2.441153256220804\n",
      "e (Parameter 5): 0.5279809801858396\n",
      "f (Parameter 6): 0.971216726200268\n",
      "Mean Squared Error: 0.2712593102998237\n",
      "\n",
      "Optimizing with TNC method:\n"
     ]
    },
    {
     "name": "stderr",
     "output_type": "stream",
     "text": [
      "C:\\Users\\USER\\AppData\\Local\\Temp\\ipykernel_7232\\375104566.py:4: OptimizeWarning: Unknown solver options: maxiter\n",
      "  result = minimize(objective_function, initial_coef, args=(X, y), method=method, options=options)\n"
     ]
    },
    {
     "name": "stdout",
     "output_type": "stream",
     "text": [
      "Optimized Parameters:\n",
      "a (Parameter 1): -6.313221836878927\n",
      "b (Parameter 2): 2.750745683769439\n",
      "c (Parameter 3): 0.5183146021389318\n",
      "d (Parameter 4): 2.3371880499364823\n",
      "e (Parameter 5): 0.532883176953761\n",
      "f (Parameter 6): 0.9881074857528758\n",
      "Mean Squared Error: 0.27125594583304263\n",
      "\n",
      "Optimizing with COBYLA method:\n",
      "Optimized Parameters:\n",
      "a (Parameter 1): -5.704622449812323\n",
      "b (Parameter 2): 3.2354072357349954\n",
      "c (Parameter 3): 1.114407789450808\n",
      "d (Parameter 4): 1.9156697748746787\n",
      "e (Parameter 5): 0.46365716790789957\n",
      "f (Parameter 6): 0.8898277913181785\n",
      "Mean Squared Error: 0.2712541244186979\n",
      "\n",
      "Optimizing with trust-constr method:\n",
      "Optimized Parameters:\n",
      "a (Parameter 1): -6.560555047153309\n",
      "b (Parameter 2): 2.7664944991423672\n",
      "c (Parameter 3): 1.161825937241984\n",
      "d (Parameter 4): 2.4411530966164032\n",
      "e (Parameter 5): 0.5279809813299624\n",
      "f (Parameter 6): 0.9712167285500385\n",
      "Mean Squared Error: 0.2712593102998237\n"
     ]
    }
   ],
   "source": [
    "# Perform optimization with different methods\n",
    "for method in optimization_methods:\n",
    "    print(f\"\\nOptimizing with {method} method:\")\n",
    "    result = minimize(objective_function, initial_coef, args=(X, y), method=method, options=options)\n",
    "    print(\"Optimized Parameters:\")\n",
    "    print(\"a (Parameter 1):\", result.x[0])\n",
    "    print(\"b (Parameter 2):\", result.x[1])\n",
    "    print(\"c (Parameter 3):\", result.x[2])\n",
    "    print(\"d (Parameter 4):\", result.x[3])\n",
    "    print(\"e (Parameter 5):\", result.x[4])\n",
    "    print(\"f (Parameter 6):\", result.x[5])\n",
    "    print(\"Mean Squared Error:\", result.fun)"
   ]
  },
  {
   "cell_type": "markdown",
   "id": "4b2170ef",
   "metadata": {},
   "source": [
    "#### Hence, the Glaso's optimization with  Nelder-Mead method is preferred as it has the lowest MSE of  Nelder-Mead method:"
   ]
  },
  {
   "cell_type": "code",
   "execution_count": null,
   "id": "ec058653",
   "metadata": {},
   "outputs": [],
   "source": []
  }
 ],
 "metadata": {
  "kernelspec": {
   "display_name": "Python 3 (ipykernel)",
   "language": "python",
   "name": "python3"
  },
  "language_info": {
   "codemirror_mode": {
    "name": "ipython",
    "version": 3
   },
   "file_extension": ".py",
   "mimetype": "text/x-python",
   "name": "python",
   "nbconvert_exporter": "python",
   "pygments_lexer": "ipython3",
   "version": "3.9.13"
  }
 },
 "nbformat": 4,
 "nbformat_minor": 5
}
